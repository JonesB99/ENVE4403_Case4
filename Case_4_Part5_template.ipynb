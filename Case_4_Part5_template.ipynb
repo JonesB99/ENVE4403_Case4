{
 "cells": [
  {
   "cell_type": "code",
   "execution_count": null,
   "metadata": {},
   "outputs": [],
   "source": [
    "import xarray as xr\n",
    "import numpy as np\n",
    "import matplotlib.pyplot as plt"
   ]
  },
  {
   "cell_type": "code",
   "execution_count": null,
   "metadata": {},
   "outputs": [],
   "source": [
    "## Load data\n",
    "ds = xr.open_dataset()\n",
    "ds"
   ]
  },
  {
   "attachments": {},
   "cell_type": "markdown",
   "metadata": {},
   "source": [
    "You can show the isotherms using a contour plot, see the API documentation for [contour](https://matplotlib.org/3.1.1/api/_as_gen/matplotlib.pyplot.contour.html) for more information.\n",
    "\n",
    "Your code should look something like:\n",
    "    \n",
    "    ```python\n",
    "    plt.contour(time, depth, temperature, levels=np.arange(15,25,1))\n",
    "    ```\n",
    "where Temperature is an array with shape (time, depth) and time and depth are 1D arrays. Note you will need to replace the variable names with the ones you have used in your code."
   ]
  },
  {
   "cell_type": "code",
   "execution_count": null,
   "metadata": {},
   "outputs": [],
   "source": [
    "# Part a\n"
   ]
  },
  {
   "attachments": {},
   "cell_type": "markdown",
   "metadata": {},
   "source": [
    "You can plot a variable as a function of time and depth using the pcolormesh function, see the API documentation for [pcolormesh](https://matplotlib.org/3.1.1/api/_as_gen/matplotlib.pyplot.pcolormesh.html) for more information.\n",
    "\n",
    "Your code should look something like:\n",
    "    \n",
    "    ```\n",
    "    c = plt.pcolormesh(time, depth, variable, vmin=v_low, vmax=v_high)\n",
    "    plt.colorbar(c,label='variable')\n",
    "    ```\n",
    "where \"variable\" is an array with shape (time, depth) and time and depth are 1D arrays. Note you will need to replace the variable names with the ones you have used in your code, and change vmin and vmax to so that you can visualise your data. This code will also include a colorbar.\n",
    "\n",
    "You can make three subplots using the following code:\n",
    "\n",
    "    ```\n",
    "    fig, (ax1, ax2, ax3) = plt.subplots(1,3,figsize=(15,5),sharex=True)\n",
    "    ```\n",
    "and then plot your three variables using the ax1, ax2 and ax3 axes objects like:\n",
    "    \n",
    "        ```\n",
    "        c = ax1.pcolormesh(time, depth, variable, vmin=v_low, vmax=v_high)\n",
    "        fig.colorbar(c,ax=ax1,label='variable')\n",
    "\n",
    "        c = ax2.pcolormesh(time, depth, variable, vmin=v_low, vmax=v_high)\n",
    "        fig.colorbar(c,ax=ax2,label='variable')\n",
    "\n",
    "        c = ax3.pcolormesh(time, depth, variable, vmin=v_low, vmax=v_high)\n",
    "        fig.colorbar(c,ax=ax3,label='variable')\n",
    "        ```\n",
    "\n",
    "\n"
   ]
  },
  {
   "cell_type": "code",
   "execution_count": null,
   "metadata": {},
   "outputs": [],
   "source": [
    "# Part b"
   ]
  }
 ],
 "metadata": {
  "language_info": {
   "name": "python"
  },
  "orig_nbformat": 4
 },
 "nbformat": 4,
 "nbformat_minor": 2
}
